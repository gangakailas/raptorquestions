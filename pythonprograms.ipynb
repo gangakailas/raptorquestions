{
  "nbformat": 4,
  "nbformat_minor": 0,
  "metadata": {
    "colab": {
      "provenance": [],
      "authorship_tag": "ABX9TyPOtyTWd6C/605zY+Y56EWD",
      "include_colab_link": true
    },
    "kernelspec": {
      "name": "python3",
      "display_name": "Python 3"
    },
    "language_info": {
      "name": "python"
    }
  },
  "cells": [
    {
      "cell_type": "markdown",
      "metadata": {
        "id": "view-in-github",
        "colab_type": "text"
      },
      "source": [
        "<a href=\"https://colab.research.google.com/github/gangakailas/raptorquestions/blob/main/pythonprograms.ipynb\" target=\"_parent\"><img src=\"https://colab.research.google.com/assets/colab-badge.svg\" alt=\"Open In Colab\"/></a>"
      ]
    },
    {
      "cell_type": "code",
      "execution_count": null,
      "metadata": {
        "colab": {
          "base_uri": "https://localhost:8080/"
        },
        "id": "6_py5nl9WYeb",
        "outputId": "132fd50d-436c-471a-f8a1-64b6d5637407"
      },
      "outputs": [
        {
          "output_type": "stream",
          "name": "stdout",
          "text": [
            "Enter the number= 56\n",
            "You have entered a two digit number\n"
          ]
        }
      ],
      "source": [
        "#checking whether a number is two digit\n",
        "n=int(input(\"Enter the number= \"))\n",
        "if n>9 and n<100:\n",
        "  print(\"You have entered a two digit number\")\n",
        "else:\n",
        "  print(\"The number you've entered is not a two-digit number\")"
      ]
    },
    {
      "cell_type": "code",
      "source": [
        "#checking whether smaller number is a multiple of larger number\n",
        "n1=int(input(\"Enter the larger number= \"))\n",
        "n2=int(input(\"Enter the smaller number= \"))\n",
        "if n1>n2:\n",
        "  if n1%n2==0:\n",
        "    print(n2,\" is a multiple of \",n1)\n",
        "  else:\n",
        "    print(n2,\" is not a multiple of \",n1)\n",
        "else:\n",
        "  print(\"OOPS!you have entered in wrong format!\")\n",
        "  "
      ],
      "metadata": {
        "id": "h_gxX6z6acUu",
        "colab": {
          "base_uri": "https://localhost:8080/"
        },
        "outputId": "3564303b-298e-4959-83d8-c8c6eb1afadd"
      },
      "execution_count": null,
      "outputs": [
        {
          "output_type": "stream",
          "name": "stdout",
          "text": [
            "Enter the larger number= 70\n",
            "Enter the smaller number= 35\n",
            "35  is a multiple of  70\n"
          ]
        }
      ]
    },
    {
      "cell_type": "code",
      "source": [
        "#checking whether a number is positive, negative or zero\n",
        "num=int(input(\"Enter the number= \"))\n",
        "if num>0:\n",
        "  print(\"The number you've entered is positive\")\n",
        "elif num<0:\n",
        "  print(\"The number you've entered is negative\")\n",
        "else:\n",
        "  print(\"The number you've entered is zero\")"
      ],
      "metadata": {
        "colab": {
          "base_uri": "https://localhost:8080/"
        },
        "id": "rE5_35IOHwR2",
        "outputId": "f5ac43a8-a73d-4ecd-b9db-595dd4a95161"
      },
      "execution_count": null,
      "outputs": [
        {
          "output_type": "stream",
          "name": "stdout",
          "text": [
            "Enter the number= 0\n",
            "The number you've entered is zero\n"
          ]
        }
      ]
    },
    {
      "cell_type": "code",
      "source": [
        "#basic arithmetic operations\n",
        "num1=int(input(\"Enter the first number(preferably larger)\"))\n",
        "num2=int(input(\"Enter the second number(preferably smaller)\"))\n",
        "op=str(input(\"Enter the operation you prefer from(+,-,*,/)= \"))\n",
        "if op==\"+\":\n",
        "  sum=num1+num2\n",
        "  print(\"Sum of the numbers= \",sum)\n",
        "elif op==\"-\":\n",
        "  dif=num1-num2\n",
        "  print(\"Difference between the numbers= \",dif)\n",
        "elif op==\"*\":\n",
        "  pro=num1*num2\n",
        "  print(\"Product of the numbers= \",pro)\n",
        "elif op==\"/\":\n",
        "  quo=num1/num2\n",
        "  print(\"Quotient on division of numbers= \",quo)\n",
        "\n",
        "\n"
      ],
      "metadata": {
        "id": "mmY3Z3pzJU9u",
        "colab": {
          "base_uri": "https://localhost:8080/"
        },
        "outputId": "f2e1143b-136f-4c3f-e927-6af49e8a7de9"
      },
      "execution_count": null,
      "outputs": [
        {
          "output_type": "stream",
          "name": "stdout",
          "text": [
            "Enter the first number(preferably larger)80\n",
            "Enter the second number(preferably smaller)20\n",
            "Enter the operation you prefer from(+,-,*,/)= /\n",
            "Quotient on division of numbers=  4.0\n"
          ]
        }
      ]
    },
    {
      "cell_type": "code",
      "source": [
        "#average of three numbers\n",
        "num1=int(input(\"Enter first number= \"))\n",
        "num2=int(input(\"Enter second number= \"))\n",
        "num3=int(input(\"Enter third number\"))\n",
        "sum=num1+num2+num3\n",
        "print(\"Average of the numbers= \",sum/3)\n"
      ],
      "metadata": {
        "id": "rZnJy0fjbAZJ",
        "colab": {
          "base_uri": "https://localhost:8080/"
        },
        "outputId": "429bb82c-e1c7-45a8-a3b4-1a6c4cf19937"
      },
      "execution_count": null,
      "outputs": [
        {
          "output_type": "stream",
          "name": "stdout",
          "text": [
            "Enter first number= 10\n",
            "Enter second number= 6\n",
            "Enter third number11\n",
            "Average of the numbers=  9.0\n"
          ]
        }
      ]
    },
    {
      "cell_type": "code",
      "source": [
        "#area of circle\n",
        "import math\n",
        "rad=int(input(\"Enter your radius\"))\n",
        "area=(math.pi)*(rad**2)\n",
        "print(\"Area of the circle= \",area)"
      ],
      "metadata": {
        "colab": {
          "base_uri": "https://localhost:8080/"
        },
        "id": "tve9Tzhek-Bu",
        "outputId": "fb18ec72-22d5-47dd-844e-6a955512602f"
      },
      "execution_count": null,
      "outputs": [
        {
          "output_type": "stream",
          "name": "stdout",
          "text": [
            "Enter your radius3\n",
            "Area of the circle=  28.274333882308138\n"
          ]
        }
      ]
    },
    {
      "cell_type": "code",
      "source": [
        "#finding area and perimeter of a triangle\n",
        "import math\n",
        "a=int(input(\"Enter first side= \"))\n",
        "b=int(input(\"Enter second side= \"))\n",
        "c=int(input(\"Enter third side= \"))\n",
        "peri=a+b+c\n",
        "s=peri/2\n",
        "area=math.sqrt(s*(s-a)*(s-b)*(s-c))\n",
        "print(\"The perimeter of the triangle= \", peri)\n",
        "print(\"The area of the triangle= \", area)"
      ],
      "metadata": {
        "id": "6i8Ylh0InTIh",
        "colab": {
          "base_uri": "https://localhost:8080/"
        },
        "outputId": "3e400a43-8721-4516-dc98-983b456d0a3a"
      },
      "execution_count": null,
      "outputs": [
        {
          "output_type": "stream",
          "name": "stdout",
          "text": [
            "Enter first side= 9\n",
            "Enter second side= 12\n",
            "Enter third side= 15\n",
            "The perimeter of the triangle=  36\n",
            "The area of the triangle=  54.0\n"
          ]
        }
      ]
    },
    {
      "cell_type": "code",
      "source": [
        "#distance on number line\n",
        "import math\n",
        "x1=int(input(\"Enter x-coordinate of point 1= \"))\n",
        "x2=int(input(\"Enter x-coordinate of point 2= \"))\n",
        "y1=int(input(\"Enter y-coordinate of point 1= \"))\n",
        "y2=int(input(\"Enter y-coordinate of point 2= \"))\n",
        "x=x2-x1\n",
        "y=y2-y1\n",
        "dist=math.sqrt((x**2)+(y**2))\n",
        "print(\"Distance between two points= \",dist)"
      ],
      "metadata": {
        "colab": {
          "base_uri": "https://localhost:8080/"
        },
        "id": "BfarXt87CubX",
        "outputId": "61d7db40-35ec-4b7d-aedf-477a6c8bacc0"
      },
      "execution_count": null,
      "outputs": [
        {
          "output_type": "stream",
          "name": "stdout",
          "text": [
            "Enter x-coordinate of point 1= 4\n",
            "Enter x-coordinate of point 2= 7\n",
            "Enter y-coordinate of point 1= 2\n",
            "Enter y-coordinate of point 2= 8\n",
            "Distance between two points=  6.708203932499369\n"
          ]
        }
      ]
    },
    {
      "cell_type": "code",
      "source": [
        "#finding factorial of a number\n",
        "num=int(input(\"Enter the number= \"))\n",
        "t=num\n",
        "fact=1\n",
        "while num>0:\n",
        "  fact=fact*num\n",
        "  num=num-1\n",
        "print(\"Factorial of\",t, \"= \",fact)\n"
      ],
      "metadata": {
        "colab": {
          "base_uri": "https://localhost:8080/"
        },
        "id": "cu8Yix-LGFyL",
        "outputId": "44a7dba7-82bb-4aa9-fad9-fd3f9d6ca4bd"
      },
      "execution_count": null,
      "outputs": [
        {
          "output_type": "stream",
          "name": "stdout",
          "text": [
            "Enter the number= 5\n",
            "Factorial of 5 =  120\n"
          ]
        }
      ]
    },
    {
      "cell_type": "code",
      "source": [
        "#greatest of two numbers\n",
        "num1=int(input(\"Enter frist number= \"))\n",
        "num2=int(input(\"Enter second number= \"))\n",
        "if num1==num2:\n",
        "  print(\"Both the numbers are equal\")\n",
        "elif num1>num2:\n",
        "  print(num1,\"is the greater number\")\n",
        "elif num2>num1:\n",
        "  print(num2,\"is the greater number\")"
      ],
      "metadata": {
        "colab": {
          "base_uri": "https://localhost:8080/"
        },
        "id": "r-6SF1R4I_AF",
        "outputId": "733c6993-a7c8-45f4-a069-bc2af10217ae"
      },
      "execution_count": null,
      "outputs": [
        {
          "output_type": "stream",
          "name": "stdout",
          "text": [
            "Enter frist number= 6\n",
            "Enter second number= 9\n",
            "9 is the greater number\n"
          ]
        }
      ]
    },
    {
      "cell_type": "code",
      "source": [
        "#interchanging values of two variables without third variable\n",
        "num1=int(input(\"Enter first number= \"))\n",
        "num2=int(input(\"Enter second number= \"))\n",
        "num1=num1+num2\n",
        "num2=num1-num2\n",
        "num1=num1-num2\n",
        "print(\"The new value of num1=\", num1)\n",
        "print(\"The new value of num2=\", num2)\n"
      ],
      "metadata": {
        "colab": {
          "base_uri": "https://localhost:8080/"
        },
        "id": "4KR-5OS-KRw-",
        "outputId": "b4c5b5c0-9526-4e31-c236-91d6f208de58"
      },
      "execution_count": null,
      "outputs": [
        {
          "output_type": "stream",
          "name": "stdout",
          "text": [
            "Enter first number= 4\n",
            "Enter second number= 7\n",
            "The new value of num1= 7\n",
            "The new value of num2= 4\n"
          ]
        }
      ]
    },
    {
      "cell_type": "code",
      "source": [
        "#generating n odd numbers\n",
        "n=int(input(\"Enter how many odd numbers= \"))\n",
        "odd=1\n",
        "while n>0:\n",
        "  print(odd)\n",
        "  n=n-1\n",
        "  odd=odd+2#\n",
        "  "
      ],
      "metadata": {
        "colab": {
          "base_uri": "https://localhost:8080/"
        },
        "id": "KRB34O_uMtpN",
        "outputId": "ee29eef4-f87b-4f09-cbbb-f4c3610cd279"
      },
      "execution_count": null,
      "outputs": [
        {
          "output_type": "stream",
          "name": "stdout",
          "text": [
            "Enter how many odd numbers= 10\n",
            "1\n",
            "3\n",
            "5\n",
            "7\n",
            "9\n",
            "11\n",
            "13\n",
            "15\n",
            "17\n",
            "19\n"
          ]
        }
      ]
    },
    {
      "cell_type": "code",
      "source": [
        "#n terms of an AP\n",
        "a=int(input(\"Enter first term of AP= \"))\n",
        "d=int(input(\"Enter common difference= \"))\n",
        "n=int(input(\"Enter how many terms you want to generate= \"))\n",
        "while n>0:\n",
        "  print(a)\n",
        "  a=a+d\n",
        "  n=n-1\n"
      ],
      "metadata": {
        "colab": {
          "base_uri": "https://localhost:8080/"
        },
        "id": "_D_VBW3CPhKl",
        "outputId": "9c2073f6-fcf1-41b0-e6d2-3deb545b1685"
      },
      "execution_count": null,
      "outputs": [
        {
          "output_type": "stream",
          "name": "stdout",
          "text": [
            "Enter first term of AP= 1\n",
            "Enter common difference= 3\n",
            "Enter how many terms you want to generate= 10\n",
            "1\n",
            "4\n",
            "7\n",
            "10\n",
            "13\n",
            "16\n",
            "19\n",
            "22\n",
            "25\n",
            "28\n"
          ]
        }
      ]
    },
    {
      "cell_type": "code",
      "source": [
        "#finding the nature of quadratic roots\n",
        "a=int(input(\"Enter the first coefficient= \"))\n",
        "b=int(input(\"Enter the second coefficient= \"))\n",
        "c=int(input(\"Enter the constant= \"))\n",
        "d=(b**2)-(4*a*c)                                                         \n",
        "if d==0:\n",
        "  print(\"The quadratic equation has equal roots\")\n",
        "elif d>0:\n",
        "  print(\"The quadratic equation has unique and real roots\")\n",
        "elif d<0:\n",
        "  print(\"The quadratic equation has complex roots\")"
      ],
      "metadata": {
        "colab": {
          "base_uri": "https://localhost:8080/"
        },
        "id": "fH674vxWS46c",
        "outputId": "282f2766-1ce5-4d47-b761-751926f56341"
      },
      "execution_count": null,
      "outputs": [
        {
          "output_type": "stream",
          "name": "stdout",
          "text": [
            "Enter the first coefficient= 2\n",
            "Enter the second coefficient= 9\n",
            "Enter the constant= 4\n",
            "The quadratic equation has unique and real roots\n"
          ]
        }
      ]
    },
    {
      "cell_type": "code",
      "source": [
        "#prime number check\n",
        "n=int(input(\"Enter a number of your choice= \"))\n",
        "f=0\n",
        "for i in range(2,(n//2)+1):\n",
        "  if n%i==0:\n",
        "    f=f+1\n",
        "    break\n",
        "\n",
        "if f==0:\n",
        "  print(\"The given number is prime\")\n",
        "else:\n",
        "  print(\"The given number is not prime\")\n",
        "    "
      ],
      "metadata": {
        "colab": {
          "base_uri": "https://localhost:8080/"
        },
        "id": "arnotSeIV7KV",
        "outputId": "1dfb2eb0-368a-473d-c4f5-ca784ac52984"
      },
      "execution_count": null,
      "outputs": [
        {
          "output_type": "stream",
          "name": "stdout",
          "text": [
            "Enter a number of your choice= 20\n",
            "The given number is not prime\n"
          ]
        }
      ]
    },
    {
      "cell_type": "code",
      "source": [
        "#smallest digit in a two-digit number\n",
        "n=int(input(\"Enter a two-digit number\"))\n",
        "if (n//10)<10:\n",
        "  print(\"You've correctly entered a two-digit number\")\n",
        "else:\n",
        "  print(\"INVALID ENTRY!\")\n",
        "\n",
        "t=n\n",
        "r=n%10\n",
        "n=n//10\n",
        "\n",
        "if n>r:\n",
        "  print(n,\"is the greater digit in\",t)\n",
        "elif r>n:\n",
        "  print(r,\"is the greater digit in\",t)\n",
        "\n"
      ],
      "metadata": {
        "colab": {
          "base_uri": "https://localhost:8080/"
        },
        "id": "-wKKSZEpaIal",
        "outputId": "37bffb86-087f-417d-a718-8f40ed85504b"
      },
      "execution_count": null,
      "outputs": [
        {
          "output_type": "stream",
          "name": "stdout",
          "text": [
            "Enter a two-digit number37\n",
            "You've correctly entered a two-digit number\n",
            "7 is the greater digit in 37\n"
          ]
        }
      ]
    },
    {
      "cell_type": "code",
      "source": [
        "#smallest of three-numbers\n",
        "num1=int(input(\"Enter first number= \"))\n",
        "num2=int(input(\"Enter second number= \"))\n",
        "num3=int(input(\"Enter third number= \"))\n",
        "if num1<num2 and num1<num3:\n",
        "  print(\"The smaller number is\",num1)\n",
        "elif num2<num3:\n",
        "  print(\"The smaller number is\",num2)\n",
        "else:\n",
        "  print(\"The smaller number is\",num3)"
      ],
      "metadata": {
        "colab": {
          "base_uri": "https://localhost:8080/"
        },
        "id": "FTLewROKdFUZ",
        "outputId": "b10525c4-e9f1-4a3c-8e63-dd67d8c4b415"
      },
      "execution_count": null,
      "outputs": [
        {
          "output_type": "stream",
          "name": "stdout",
          "text": [
            "Enter first number= 11\n",
            "Enter second number= 20\n",
            "Enter third number= 7\n",
            "The smaller number is 7\n"
          ]
        }
      ]
    },
    {
      "cell_type": "code",
      "source": [
        "#sum of factors of a number\n",
        "num=int(input(\"Enter the number of your choice= \"))\n",
        "t=num\n",
        "sum=num                                                #for the number itself\n",
        "for i in range(1,(num//2)+1):\n",
        "  if num%i==0:\n",
        "    sum=sum+i\n",
        "\n",
        "print(\"The sum of the factors of\",t,\"=\",sum)\n",
        "  \n"
      ],
      "metadata": {
        "colab": {
          "base_uri": "https://localhost:8080/"
        },
        "id": "a7C7ktDNfYr-",
        "outputId": "4548bf54-27c5-4620-87e8-6732722dca51"
      },
      "execution_count": null,
      "outputs": [
        {
          "output_type": "stream",
          "name": "stdout",
          "text": [
            "Enter the number of your choice= 15\n",
            "The sum of the factors of 15 = 24\n"
          ]
        }
      ]
    },
    {
      "cell_type": "code",
      "source": [
        "#sum of n natural numbers\n",
        "num=int(input(\"Enter the how many natural numbers we have to consider= \"))\n",
        "t=num\n",
        "sum=0\n",
        "while num>0:\n",
        "  sum=sum+num\n",
        "  num=num-1\n",
        "\n",
        "print(\"The sum of\",t,\"natural numbers=\",sum)\n"
      ],
      "metadata": {
        "id": "irp2RE00iOVH",
        "colab": {
          "base_uri": "https://localhost:8080/"
        },
        "outputId": "8bc38b25-2c57-45ed-92c7-24c283a4c6c0"
      },
      "execution_count": null,
      "outputs": [
        {
          "output_type": "stream",
          "name": "stdout",
          "text": [
            "Enter the how many natural numbers we have to consider= 6\n",
            "The sum of 6 natural numbers= 21\n"
          ]
        }
      ]
    },
    {
      "cell_type": "code",
      "source": [
        "#converting seconds to hours, minutes and seconds\n",
        "sec=int(input(\"Enter time in seconds= \"))\n",
        "h=sec//3600\n",
        "m=(sec%3600)//60\n",
        "s=((sec%3600)%60)\n",
        "print(sec,\"seconds=\",h,\"hours\",m,\"minutes\",s,\"seconds\")"
      ],
      "metadata": {
        "colab": {
          "base_uri": "https://localhost:8080/"
        },
        "id": "krBjUKIujcQP",
        "outputId": "e470023b-f1b2-4463-a842-15be6d2f61b9"
      },
      "execution_count": null,
      "outputs": [
        {
          "output_type": "stream",
          "name": "stdout",
          "text": [
            "Enter time in seconds= 12045\n",
            "12045 seconds= 3 hours 20 minutes 45 seconds\n"
          ]
        }
      ]
    },
    {
      "cell_type": "code",
      "source": [
        "#sum and average of three numbers\n",
        "num1=int(input(\"Enter first number= \"))\n",
        "num2=int(input(\"Enter second number= \"))\n",
        "num3=int(input(\"Enter third number= \"))\n",
        "sum=num1+num2+num3\n",
        "avg=sum/3\n",
        "print(\"Sum of the thre number=\",sum)\n",
        "print(\"Average of three numbers=\",avg)"
      ],
      "metadata": {
        "colab": {
          "base_uri": "https://localhost:8080/"
        },
        "id": "s1d2Kmojknj7",
        "outputId": "a64fed97-35e5-4892-ed3c-d0457e6a42a5"
      },
      "execution_count": null,
      "outputs": [
        {
          "output_type": "stream",
          "name": "stdout",
          "text": [
            "Enter first number= 18\n",
            "Enter second number= 27\n",
            "Enter third number= 3\n",
            "Sum of the thre number= 48\n",
            "Average of three numbers= 16.0\n"
          ]
        }
      ]
    },
    {
      "cell_type": "code",
      "source": [
        "#converting days into years, months and days\n",
        "days=int(input(\"Enter number of days= \"))\n",
        "y=days//365\n",
        "m=(days%365)//30\n",
        "d=((days%365)%30)\n",
        "print(days,\"days=\",y,\"years\",m,\"months\",d,\"days\")"
      ],
      "metadata": {
        "colab": {
          "base_uri": "https://localhost:8080/"
        },
        "id": "wIrZT9vnl0Ta",
        "outputId": "ffdd735d-f6fc-4249-a9a3-78928187f826"
      },
      "execution_count": null,
      "outputs": [
        {
          "output_type": "stream",
          "name": "stdout",
          "text": [
            "Enter number of days= 1967\n",
            "1967 days= 5 years 4 months 22 days\n"
          ]
        }
      ]
    },
    {
      "cell_type": "code",
      "source": [
        "#reverse a given number\n",
        "num=int(input(\"Enter a number= \"))\n",
        "t=num\n",
        "rev=0\n",
        "while num>0:\n",
        "  r=num%10\n",
        "  rev=(rev*10)+r\n",
        "  num=num//10\n",
        "\n",
        "print(\"Reverse of\",t,\"=\",rev)"
      ],
      "metadata": {
        "colab": {
          "base_uri": "https://localhost:8080/"
        },
        "id": "kWC8IJJFn_u_",
        "outputId": "c4de9e0e-ceea-4e53-c3ae-0b13295c1537"
      },
      "execution_count": null,
      "outputs": [
        {
          "output_type": "stream",
          "name": "stdout",
          "text": [
            "Enter a number= 1297\n",
            "Reverse of 1297 = 7921\n"
          ]
        }
      ]
    },
    {
      "cell_type": "code",
      "source": [
        "#n elements of a fibonacci series\n",
        "n=int(input(\"Enter how many elements of fibonacci series you prefer= \"))\n",
        "n1=0\n",
        "n2=1\n",
        "n=n-2\n",
        "print(\"FIBONACCI SERIES\")\n",
        "print(n1)\n",
        "print(n2)\n",
        "while n>0:\n",
        "  n3=n1+n2\n",
        "  print(n3)\n",
        "  n1=n2\n",
        "  n2=n3\n",
        "  n=n-1\n"
      ],
      "metadata": {
        "colab": {
          "base_uri": "https://localhost:8080/"
        },
        "id": "4HmeJB0rpoga",
        "outputId": "1e53f2b4-df27-4d93-faf7-03adf11226ae"
      },
      "execution_count": null,
      "outputs": [
        {
          "output_type": "stream",
          "name": "stdout",
          "text": [
            "Enter how many elements of fibonacci series you prefer= 10\n",
            "FIBONACCI SERIES\n",
            "0\n",
            "1\n",
            "1\n",
            "2\n",
            "3\n",
            "5\n",
            "8\n",
            "13\n",
            "21\n",
            "34\n"
          ]
        }
      ]
    },
    {
      "cell_type": "code",
      "source": [
        "#checking whether a number is palindrome\n",
        "n=int(input(\"Enter the number of your choice= \"))\n",
        "t=n\n",
        "sum=0\n",
        "while n>0:\n",
        "  r=n%10\n",
        "  sum=(sum*10)+r\n",
        "  n=n//10\n",
        "if sum==t:\n",
        "  print(\"The number you've entered is a palindrome\")\n",
        "else:\n",
        "  print(\"The number you've entered is not a palindrome\")\n"
      ],
      "metadata": {
        "colab": {
          "base_uri": "https://localhost:8080/"
        },
        "id": "lLKvZaNXry4k",
        "outputId": "cbd3f3d8-6729-4a2b-bd89-c1a0a22a056d"
      },
      "execution_count": null,
      "outputs": [
        {
          "output_type": "stream",
          "name": "stdout",
          "text": [
            "Enter the number of your choice= 32423\n",
            "The number you've entered is a palindrome\n"
          ]
        }
      ]
    },
    {
      "cell_type": "code",
      "source": [
        "#checking whether a given number is an amstrong number\n",
        "n=int(input(\"Enter the number of your choice= \"))\n",
        "t=n\n",
        "count=0\n",
        "while n>0:\n",
        "  n=n//10\n",
        "  count=count+1\n",
        "\n",
        "s=t\n",
        "out=0\n",
        "while t>0:\n",
        "  r=t%10\n",
        "  out=out+(r**count)\n",
        "  t=t//10\n",
        "\n",
        "if out==s:\n",
        "  print(\"The given number is an amstrong number\")\n",
        "else:\n",
        "  print(\"The given number is not an amstrong number\")\n",
        "  \n"
      ],
      "metadata": {
        "colab": {
          "base_uri": "https://localhost:8080/"
        },
        "id": "nxuYXmUDs19i",
        "outputId": "260aa0c8-2496-4d7b-9e97-0ea4a3a6d158"
      },
      "execution_count": null,
      "outputs": [
        {
          "output_type": "stream",
          "name": "stdout",
          "text": [
            "Enter the number of your choice= 153\n",
            "The given number is an amstrong number\n"
          ]
        }
      ]
    },
    {
      "cell_type": "code",
      "source": [
        "#finding the output given base and power\n",
        "base=int(input(\"Enter the base of your choice= \"))\n",
        "power=int(input(\"Enter the power of your choice= \"))\n",
        "out=(base**power)\n",
        "print(\"The output= \",out)"
      ],
      "metadata": {
        "colab": {
          "base_uri": "https://localhost:8080/"
        },
        "id": "5kXnPx_fud2n",
        "outputId": "95da5240-f717-4975-ef7a-3a1fb5f4e8be"
      },
      "execution_count": null,
      "outputs": [
        {
          "output_type": "stream",
          "name": "stdout",
          "text": [
            "Enter the base of your choice= 3\n",
            "Enter the power of your choice= 4\n",
            "The output=  81\n"
          ]
        }
      ]
    },
    {
      "cell_type": "code",
      "source": [
        "#greatest common divisor of two numbers\n",
        "n1=int(input(\"Enter first number= \"))\n",
        "n2=int(input(\"Enter second number= \"))\n",
        "if n1==0:\n",
        "  print(\"The greatest common divisor=\",n2)\n",
        "elif n2==0:\n",
        "  print(\"The greatest common divisor=\",n1)\n",
        "elif n1==n2:\n",
        "  print(\"The greatest common divisor=\",n1)\n",
        "\n",
        "if n1>n2:\n",
        "  x=n2\n",
        "elif n2>n1:\n",
        "  x=n1\n",
        "\n",
        "for i in range(2,x+1):\n",
        "  if n1%i==0 and n2%i==0:\n",
        "    gcdiv=i\n",
        "\n",
        "print(\"The greatest common divisor of\",n1,\"and\",n2,\"=\",gcdiv)\n",
        "\n"
      ],
      "metadata": {
        "id": "GzmcyN_ivlJF",
        "colab": {
          "base_uri": "https://localhost:8080/"
        },
        "outputId": "0ed0a779-3c5a-4c96-adb1-22053026f67f"
      },
      "execution_count": null,
      "outputs": [
        {
          "output_type": "stream",
          "name": "stdout",
          "text": [
            "Enter first number= 36\n",
            "Enter second number= 60\n",
            "The greatest common divisor of 36 and 60 = 12\n"
          ]
        }
      ]
    },
    {
      "cell_type": "code",
      "source": [
        "#sum of series upto n terms(s=1-4+9-16+25........=)\n",
        "n=int(input(\"Enter how many terms you prefer= \"))\n",
        "sum=0\n",
        "for i in range(1,n+1):\n",
        "  if i%2!=0:\n",
        "    sum=sum+(i**2)\n",
        "  elif i%2==0:\n",
        "    sum=sum-(i**2)\n",
        "  \n",
        "print(\"The final sum of the series=\", sum)"
      ],
      "metadata": {
        "colab": {
          "base_uri": "https://localhost:8080/"
        },
        "id": "F1GvHK9XkoSu",
        "outputId": "56169848-3b2e-4ac3-d57a-8c443f4e7d46"
      },
      "execution_count": null,
      "outputs": [
        {
          "output_type": "stream",
          "name": "stdout",
          "text": [
            "Enter how many terms you prefer= 10\n",
            "The final sum of the series= -55\n"
          ]
        }
      ]
    },
    {
      "cell_type": "code",
      "source": [
        "#finding decimal equivalent of a binary number\n",
        "bn=int(input(\"Enter a binary number= \"))\n",
        "t=bn\n",
        "sum=0\n",
        "dec=0\n",
        "pow=0\n",
        "while bn>0:\n",
        "  r=bn%10\n",
        "  dec=dec+r*(2**pow)\n",
        "  pow=pow+1\n",
        "  bn=bn//10\n",
        "\n",
        "print(\"The corresponding decimal number of\",t,\"=\",dec)"
      ],
      "metadata": {
        "colab": {
          "base_uri": "https://localhost:8080/"
        },
        "id": "6cJjb5iEoXLk",
        "outputId": "9d456c3a-ba4a-4744-fdd0-6e81e199e4a3"
      },
      "execution_count": null,
      "outputs": [
        {
          "output_type": "stream",
          "name": "stdout",
          "text": [
            "Enter a binary number= 11010\n",
            "The corresponding decimal number of 11010 = 26\n"
          ]
        }
      ]
    },
    {
      "cell_type": "code",
      "source": [
        "#checking whether a given number is automorphic\n",
        "num=int(input(\"Enter a number=\"))\n",
        "sq=num**2\n",
        "if num%10==sq%10:\n",
        "  print(\"The given number is automorphic\")\n",
        "else:\n",
        "  print(\"The given number is not automorphic\")\n"
      ],
      "metadata": {
        "colab": {
          "base_uri": "https://localhost:8080/"
        },
        "id": "HokU-3fRvDa-",
        "outputId": "53206021-9038-4916-e1be-6e1d315062bc"
      },
      "execution_count": null,
      "outputs": [
        {
          "output_type": "stream",
          "name": "stdout",
          "text": [
            "Enter a number=36\n",
            "The given number is automorphic\n"
          ]
        }
      ]
    },
    {
      "cell_type": "code",
      "source": [
        "#reversing a string\n",
        "str1= str(input(\"Enter a string= \"))\n",
        "str2=\"\"\n",
        "for i in str1:\n",
        "  str2=i+str2\n",
        "\n",
        "print(\"Reversed string is= \", str2)"
      ],
      "metadata": {
        "colab": {
          "base_uri": "https://localhost:8080/"
        },
        "id": "bGwy-PbP-cel",
        "outputId": "9cf8cf9f-0cc0-4959-e4e7-0fcfe29222a0"
      },
      "execution_count": null,
      "outputs": [
        {
          "output_type": "stream",
          "name": "stdout",
          "text": [
            "Enter a string= domino\n",
            "Reversed string is=  onimod\n"
          ]
        }
      ]
    },
    {
      "cell_type": "code",
      "source": [
        "print(len(30))"
      ],
      "metadata": {
        "colab": {
          "base_uri": "https://localhost:8080/",
          "height": 164
        },
        "id": "r0U8cygYJUS1",
        "outputId": "64b96502-dbe2-403d-c705-dd55289cd0cf"
      },
      "execution_count": null,
      "outputs": [
        {
          "output_type": "error",
          "ename": "TypeError",
          "evalue": "ignored",
          "traceback": [
            "\u001b[0;31m---------------------------------------------------------------------------\u001b[0m",
            "\u001b[0;31mTypeError\u001b[0m                                 Traceback (most recent call last)",
            "\u001b[0;32m<ipython-input-1-3381b90af945>\u001b[0m in \u001b[0;36m<cell line: 1>\u001b[0;34m()\u001b[0m\n\u001b[0;32m----> 1\u001b[0;31m \u001b[0mprint\u001b[0m\u001b[0;34m(\u001b[0m\u001b[0mlen\u001b[0m\u001b[0;34m(\u001b[0m\u001b[0;36m30\u001b[0m\u001b[0;34m)\u001b[0m\u001b[0;34m)\u001b[0m\u001b[0;34m\u001b[0m\u001b[0;34m\u001b[0m\u001b[0m\n\u001b[0m",
            "\u001b[0;31mTypeError\u001b[0m: object of type 'int' has no len()"
          ]
        }
      ]
    },
    {
      "cell_type": "code",
      "source": [
        "#reversing a string\n",
        "str1= str(input(\"Enter a string= \"))\n",
        "str2=\"\"\n",
        "for i in str1:\n",
        "  str2=i+str2\n",
        "  print(str2)\n",
        "\n",
        "print(\"Reversed string is= \", str2)"
      ],
      "metadata": {
        "colab": {
          "base_uri": "https://localhost:8080/"
        },
        "id": "iFLWj1krL_hu",
        "outputId": "8ee25d0e-7c7e-4067-ba2a-6354595a169b"
      },
      "execution_count": null,
      "outputs": [
        {
          "output_type": "stream",
          "name": "stdout",
          "text": [
            "Enter a string= hello\n",
            "h\n",
            "eh\n",
            "leh\n",
            "lleh\n",
            "olleh\n",
            "Reversed string is=  olleh\n"
          ]
        }
      ]
    }
  ]
}